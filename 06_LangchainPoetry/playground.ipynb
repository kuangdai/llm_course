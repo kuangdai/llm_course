{
 "cells": [
  {
   "cell_type": "markdown",
   "id": "45a57e126e79f867",
   "metadata": {
    "collapsed": false
   },
   "source": [
    "# Introduction\n",
    "\n",
    "This notebook demonstrates our poetry chatbot, built using **LangChain**. The implementation consists of the following components:\n",
    "\n",
    "- **`llm_interface.py`**: A wrapper around the HTTP APIs provided by `03_MyLLMServer.py`.\n",
    "- **`secretory.py`**: The secretory agent responsible for intent recognition and poem retrieval.\n",
    "- **`professor.py`**: The professor agent responsible for engaging in conversation with the user.\n",
    "\n",
    "To run this notebook, ensure that `03_MyLLMServer.py` is running, either locally or on a public server.\n",
    "\n",
    "Additionally, this notebook demonstrates using **`ipywidgets`** to create simple, interactive GUIs within notebooks."
   ]
  },
  {
   "cell_type": "code",
   "execution_count": null,
   "id": "initial_id",
   "metadata": {
    "collapsed": false
   },
   "outputs": [],
   "source": [
    "import json\n",
    "\n",
    "import ipywidgets as widgets\n",
    "from IPython.display import display\n",
    "\n",
    "from professor import ProfessorAgent\n",
    "from secretary import SecretaryAgent"
   ]
  },
  {
   "cell_type": "code",
   "execution_count": null,
   "id": "c48fb985bc772c0f",
   "metadata": {
    "collapsed": false
   },
   "outputs": [],
   "source": [
    "# Load config from a JSON file\n",
    "with open(\"config.json\", \"r\") as config_file:\n",
    "    config = json.load(config_file)\n",
    "\n",
    "# If using a public URL, set it below (default is http://localhost:7777)\n",
    "# config[\"server_url\"] = \"https://few-cats-press.loca.lt\"\n",
    "\n",
    "# Initialize agents\n",
    "professor_agent = ProfessorAgent(config)\n",
    "secretary_agent = SecretaryAgent(config)"
   ]
  },
  {
   "cell_type": "code",
   "execution_count": null,
   "id": "5a2b517d916e9e83",
   "metadata": {
    "collapsed": false
   },
   "outputs": [],
   "source": [
    "# UI elements\n",
    "user_input = widgets.Textarea(\n",
    "    placeholder='Type your message here...',\n",
    "    description='User:',\n",
    "    layout={'width': '100%', 'height': '100px'}\n",
    ")\n",
    "submit_button = widgets.Button(\n",
    "    description=\"Send\",\n",
    "    button_style='primary'\n",
    ")\n",
    "chat_output = widgets.Output(layout={'border': '1px solid black', 'padding': '10px', 'width': '100%'})\n",
    "retrieval_output = widgets.Output(layout={'border': '1px solid black', 'padding': '10px', 'width': '100%'})\n",
    "\n",
    "\n",
    "# Define the main function for handling the chat\n",
    "def handle_chat(_):\n",
    "    user_text = user_input.value.strip()\n",
    "    if user_text.lower() == 'exit':\n",
    "        with chat_output:\n",
    "            print(\"Ending conversation. Goodbye!\")\n",
    "        user_input.value = ''\n",
    "        user_input.disabled = True\n",
    "        submit_button.disabled = True\n",
    "        return\n",
    "\n",
    "    # Clear outputs to refresh UI elements each time\n",
    "    retrieval_output.clear_output()\n",
    "\n",
    "    # Display user input in the chat history\n",
    "    with chat_output:\n",
    "        print(f\"User: {user_text}\")\n",
    "\n",
    "    # Process retrieval based on intent\n",
    "    retrieved_content = secretary_agent.retrieve(user_text)\n",
    "\n",
    "    # Generate AI response using the professor agent\n",
    "    ai_response = professor_agent.chat(user_text, retrieved_content)\n",
    "\n",
    "    # Display retrieved content in the retrieval output box\n",
    "    with retrieval_output:\n",
    "        if professor_agent.last_retrieval:\n",
    "            print(f\"Retrieved Information:\\n{professor_agent.last_retrieval}\")\n",
    "        else:\n",
    "            print(\"No retrieval needed for this query.\")\n",
    "\n",
    "    # Display the AI response in the chat history\n",
    "    with chat_output:\n",
    "        print(f\"AI: {ai_response}\\n\")\n",
    "\n",
    "    # Clear the input box for the next user message\n",
    "    user_input.value = ''"
   ]
  },
  {
   "cell_type": "code",
   "execution_count": null,
   "id": "19bcb414-5be3-43f3-9adc-96aab310d6dd",
   "metadata": {},
   "outputs": [],
   "source": [
    "# Greeting message in chat output\n",
    "with chat_output:\n",
    "    print(\"Welcome to the English Poetry Class! Type 'exit' to end the conversation.\\n\")\n",
    "\n",
    "# Link the chat handler to the submit button\n",
    "submit_button.on_click(handle_chat)\n",
    "\n",
    "# Display the UI elements\n",
    "display(user_input, submit_button, chat_output, retrieval_output)"
   ]
  },
  {
   "cell_type": "code",
   "execution_count": null,
   "id": "5e84310085825706",
   "metadata": {
    "collapsed": false
   },
   "outputs": [],
   "source": []
  }
 ],
 "metadata": {
  "kernelspec": {
   "display_name": "Python 3 (ipykernel)",
   "language": "python",
   "name": "python3"
  },
  "language_info": {
   "codemirror_mode": {
    "name": "ipython",
    "version": 3
   },
   "file_extension": ".py",
   "mimetype": "text/x-python",
   "name": "python",
   "nbconvert_exporter": "python",
   "pygments_lexer": "ipython3",
   "version": "3.11.8"
  }
 },
 "nbformat": 4,
 "nbformat_minor": 5
}
